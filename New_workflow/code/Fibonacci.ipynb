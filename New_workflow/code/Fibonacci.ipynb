{
 "cells": [
  {
   "cell_type": "code",
   "execution_count": 1,
   "metadata": {},
   "outputs": [
    {
     "name": "stdout",
     "output_type": "stream",
     "text": [
      "0 1\n",
      "1 1\n",
      "1 2\n",
      "2 3\n",
      "3 5\n",
      "5 8\n",
      "8 13\n",
      "13 21\n",
      "21 34\n",
      "34 55\n"
     ]
    }
   ],
   "source": [
    "# Fibonacci sequence\n",
    "a, b = 0, 1\n",
    "for i in range(0,10):\n",
    "    print a, b\n",
    "    a, b = b, a+b"
   ]
  },
  {
   "cell_type": "code",
   "execution_count": 2,
   "metadata": {},
   "outputs": [
    {
     "name": "stdout",
     "output_type": "stream",
     "text": [
      "1 : 0\n",
      "2 : 1\n",
      "3 : 1\n",
      "4 : 2\n",
      "5 : 3\n",
      "6 : 5\n",
      "7 : 8\n",
      "8 : 13\n",
      "9 : 21\n",
      "10 : 34\n"
     ]
    }
   ],
   "source": [
    "# Fibonacci Generator\n",
    "def fib(num):\n",
    "    a,b = 0,1\n",
    "    for i in xrange(0,num):\n",
    "        yield \"{} : {}\".format(i+1,a)\n",
    "        a, b = b, a+b\n",
    "        \n",
    "for item in fib(10):\n",
    "    print item"
   ]
  },
  {
   "cell_type": "code",
   "execution_count": null,
   "metadata": {},
   "outputs": [],
   "source": []
  }
 ],
 "metadata": {
  "kernelspec": {
   "display_name": "Python 2",
   "language": "python",
   "name": "python2"
  },
  "language_info": {
   "codemirror_mode": {
    "name": "ipython",
    "version": 2
   },
   "file_extension": ".py",
   "mimetype": "text/x-python",
   "name": "python",
   "nbconvert_exporter": "python",
   "pygments_lexer": "ipython2",
   "version": "2.7.16"
  }
 },
 "nbformat": 4,
 "nbformat_minor": 2
}
