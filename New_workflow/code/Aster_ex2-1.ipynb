{
 "cells": [
  {
   "cell_type": "markdown",
   "metadata": {},
   "source": [
    "## Example 2.1 from Aster\n",
    "\n",
    "We want to apply the linear regression of ballistic observations to a quadratic model, where the model is \n",
    "\n",
    "\\begin{equation}\n",
    "    y(t) = m_1 + m_2 t - (1/2)m_3 t^2\n",
    "\\end{equation}\n",
    "\n",
    "Here $y$ is measured in the upward direction and the minus sign is applied to the third term because gravitational acceleration is downward. Let's find the synthetic data by inputting $m=10$ observations and independent normal data errors $(\\sigma = 8m)$ generated using\n",
    "\n",
    "\\begin{equation}\n",
    "    m_{true} = [10m, 100m/s, 9.8m/s^2]^T\n",
    "\\end{equation}"
   ]
  },
  {
   "cell_type": "code",
   "execution_count": 1,
   "metadata": {},
   "outputs": [],
   "source": [
    "import numpy as np\n",
    "import matplotlib.pyplot as plt\n",
    "%matplotlib inline"
   ]
  },
  {
   "cell_type": "markdown",
   "metadata": {},
   "source": [
    "#### Forward modelling\n",
    "\n",
    "Define the time vector"
   ]
  },
  {
   "cell_type": "code",
   "execution_count": 2,
   "metadata": {},
   "outputs": [
    {
     "data": {
      "text/plain": [
       "array([ 0,  1,  2,  3,  4,  5,  6,  7,  8,  9, 10])"
      ]
     },
     "execution_count": 2,
     "metadata": {},
     "output_type": "execute_result"
    }
   ],
   "source": [
    "t = np.arange(0, 11)\n",
    "t"
   ]
  },
  {
   "cell_type": "markdown",
   "metadata": {},
   "source": [
    "Define the parameter vector"
   ]
  },
  {
   "cell_type": "code",
   "execution_count": 3,
   "metadata": {},
   "outputs": [
    {
     "data": {
      "text/plain": [
       "array([ 10. , 100. ,   9.8])"
      ]
     },
     "execution_count": 3,
     "metadata": {},
     "output_type": "execute_result"
    }
   ],
   "source": [
    "mtrue = np.array([10, 100, 9.8])\n",
    "mtrue"
   ]
  },
  {
   "cell_type": "markdown",
   "metadata": {},
   "source": [
    "Define sensitivity matrix"
   ]
  },
  {
   "cell_type": "code",
   "execution_count": 4,
   "metadata": {},
   "outputs": [
    {
     "data": {
      "text/plain": [
       "(11, 3)"
      ]
     },
     "execution_count": 4,
     "metadata": {},
     "output_type": "execute_result"
    }
   ],
   "source": [
    "G = np.zeros((11,3))\n",
    "G.shape"
   ]
  },
  {
   "cell_type": "code",
   "execution_count": 5,
   "metadata": {},
   "outputs": [
    {
     "data": {
      "text/plain": [
       "array([[  1. ,   0. ,  -0. ],\n",
       "       [  1. ,   1. ,  -0.5],\n",
       "       [  1. ,   2. ,  -2. ],\n",
       "       [  1. ,   3. ,  -4.5],\n",
       "       [  1. ,   4. ,  -8. ],\n",
       "       [  1. ,   5. , -12.5],\n",
       "       [  1. ,   6. , -18. ],\n",
       "       [  1. ,   7. , -24.5],\n",
       "       [  1. ,   8. , -32. ],\n",
       "       [  1. ,   9. , -40.5],\n",
       "       [  1. ,  10. , -50. ]])"
      ]
     },
     "execution_count": 5,
     "metadata": {},
     "output_type": "execute_result"
    }
   ],
   "source": [
    "G[:,0] = np.ones(11)\n",
    "G[:,1] = t\n",
    "G[:,2] = -0.5*t*t\n",
    "G"
   ]
  },
  {
   "cell_type": "code",
   "execution_count": 6,
   "metadata": {},
   "outputs": [],
   "source": [
    "# sigma = 8\n",
    "# W = sigma*np.identity(11)\n",
    "# W.shape\n",
    "# Gw = np.dot(W, G)"
   ]
  },
  {
   "cell_type": "markdown",
   "metadata": {},
   "source": [
    "Calculate y by\n",
    "\n",
    "\\begin{equation}\n",
    "    y = G m_{true}\n",
    "\\end{equation}"
   ]
  },
  {
   "cell_type": "code",
   "execution_count": 7,
   "metadata": {},
   "outputs": [
    {
     "data": {
      "text/plain": [
       "array([ 10. , 105.1, 190.4, 265.9, 331.6, 387.5, 433.6, 469.9, 496.4,\n",
       "       513.1, 520. ])"
      ]
     },
     "execution_count": 7,
     "metadata": {},
     "output_type": "execute_result"
    }
   ],
   "source": [
    "y = np.dot(G, mtrue)\n",
    "y"
   ]
  },
  {
   "cell_type": "code",
   "execution_count": 8,
   "metadata": {},
   "outputs": [
    {
     "data": {
      "image/png": "[encoded data removed]",
      "text/plain": [
       "<Figure size 432x288 with 1 Axes>"
      ]
     },
     "metadata": {
      "needs_background": "light"
     },
     "output_type": "display_data"
    }
   ],
   "source": [
    "plt.errorbar(t, y, yerr=8)\n",
    "plt.ylabel('Elevation (m)')\n",
    "plt.xlabel('Time (s)')\n",
    "plt.xlim([0, 10.5])\n",
    "plt.show()"
   ]
  },
  {
   "cell_type": "markdown",
   "metadata": {},
   "source": [
    "#### Linear inversion\n",
    "\n",
    "To solve the linear inversion, we will apply the weighted least squares. Thus,\n",
    "\n",
    "\\begin{eqnarray}\n",
    "    y_w = Wy \\\\\n",
    "    G_w = WG\n",
    "\\end{eqnarray}\n",
    "\n",
    "Hence, we need to define the weight matrix W."
   ]
  },
  {
   "cell_type": "code",
   "execution_count": 9,
   "metadata": {},
   "outputs": [
    {
     "data": {
      "text/plain": [
       "(11, 11)"
      ]
     },
     "execution_count": 9,
     "metadata": {},
     "output_type": "execute_result"
    }
   ],
   "source": [
    "sigma = 8\n",
    "W = sigma*np.identity(11)\n",
    "W.shape"
   ]
  },
  {
   "cell_type": "code",
   "execution_count": 10,
   "metadata": {},
   "outputs": [],
   "source": [
    "yw = np.dot(W, y)\n",
    "Gw = np.dot(W, G)"
   ]
  },
  {
   "cell_type": "markdown",
   "metadata": {},
   "source": [
    "\\begin{equation}\n",
    "    y_w = G_w m \\\\\n",
    "    G_w^T y_w = G_w^T G_w m \\\\\n",
    "    m = (G_w^T G_w)^{-1} G_w^T y_w \\\\\n",
    "    A = (G_w^T G_w)^{-1} \\\\\n",
    "    d = G_w^T y_w \\\\\n",
    "    m = A d\n",
    "\\end{equation}"
   ]
  },
  {
   "cell_type": "code",
   "execution_count": 11,
   "metadata": {},
   "outputs": [],
   "source": [
    "A = np.dot(Gw.T, Gw)\n",
    "A = np.linalg.inv(A)\n",
    "d = np.dot(Gw.T, yw)"
   ]
  },
  {
   "cell_type": "code",
   "execution_count": 12,
   "metadata": {},
   "outputs": [
    {
     "data": {
      "text/plain": [
       "array([ 10. , 100. ,   9.8])"
      ]
     },
     "execution_count": 12,
     "metadata": {},
     "output_type": "execute_result"
    }
   ],
   "source": [
    "m = np.dot(A, d)\n",
    "m"
   ]
  },
  {
   "cell_type": "code",
   "execution_count": null,
   "metadata": {},
   "outputs": [],
   "source": []
  }
 ],
 "metadata": {
  "kernelspec": {
   "display_name": "Python 3",
   "language": "python",
   "name": "python3"
  },
  "language_info": {
   "codemirror_mode": {
    "name": "ipython",
    "version": 3
   },
   "file_extension": ".py",
   "mimetype": "text/x-python",
   "name": "python",
   "nbconvert_exporter": "python",
   "pygments_lexer": "ipython3",
   "version": "3.8.5"
  }
 },
 "nbformat": 4,
 "nbformat_minor": 4
}
