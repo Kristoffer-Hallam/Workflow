{
 "cells": [
  {
   "cell_type": "code",
   "execution_count": null,
   "metadata": {},
   "outputs": [],
   "source": [
    "data = {'LAT': [-22.9160, -22.9161, -22.9162, ],\n",
    "        'LONG': [-42.3163,-42.3162, -42.3165, ],\n",
    "        'ALT': [6.93, 3.77, 4.18],\n",
    "        'ALT_GEOIDAL': [-5.4, -5.4, -5.4],\n",
    "        'GRAV': [978816.6, 978816.6, 978816.6],\n",
    "        'MAG': [23296, 23296, 23296,],\n",
    "        'DECL': [-23.1, -23.1, -23.1,],\n",
    "        'INCL': [-41.1, -41.1, -41.1,]}"
   ]
  }
 ],
 "metadata": {
  "kernelspec": {
   "display_name": "Python 3",
   "language": "python",
   "name": "python3"
  },
  "language_info": {
   "codemirror_mode": {
    "name": "ipython",
    "version": 3
   },
   "file_extension": ".py",
   "mimetype": "text/x-python",
   "name": "python",
   "nbconvert_exporter": "python",
   "pygments_lexer": "ipython3",
   "version": "3.7.7"
  }
 },
 "nbformat": 4,
 "nbformat_minor": 4
}
